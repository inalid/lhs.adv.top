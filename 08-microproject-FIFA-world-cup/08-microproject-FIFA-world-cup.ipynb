{
 "cells": [
  {
   "cell_type": "markdown",
   "metadata": {},
   "source": [
    "<h1 style=\"text-align: center\">\n",
    "<div style=\"color: #DD3403; font-size: 60%\">Data Science DISCOVERY MicroProject #08</div>\n",
    "<span style=\"\">MicroProject: FIFA World Cup</span>\n",
    "<div style=\"font-size: 60%;\"><a href=\"https://discovery.cs.illinois.edu/microproject/08-fifa-world-cup\">https://discovery.cs.illinois.edu/microproject/08-fifa-world-cup</a></div>\n",
    "</h1>\n",
    "\n",
    "<hr style=\"color: #DD3403;\">"
   ]
  },
  {
   "cell_type": "markdown",
   "metadata": {},
   "source": [
    "## Data Source: International Soccer Match Data via GitHub\n",
    "\n",
    "\n",
    "The FIFA World Cup is a global football(soccer) competition contested by the senior men's national teams which occurs every 4 years. It is likely the most popular sporting event in the world, drawing billions of television viewers every tournament. The 2022  FIFA World Cup will be hosted in Qatar and began on November 20th.\n",
    "\n",
    "This dataset includes over 44,000 results of international football matches starting from the very first official match in 1872 up to 2022. The matches range from FIFA World Cup to FIFI Wild Cup to regular friendly matches. The matches are strictly men's full internationals and the data does not include Olympic Games or matches where at least one of the teams was the nation's B-team, U-23 or a league select team.\n",
    "\n",
    "You can view their Match Data GitHub repository here: [https://github.com/martj42/international_results](https://github.com/martj42/international_results).  You can find all the match results by navigating into the repository:\n",
    "\n",
    "- Click **results.csv**\n",
    "- Click the **View Raw** button to above the file contents to navigate to the raw CSV version of the file (without the GitHub interface)\n",
    "- Use the URL of the **raw data as your dataset** for this MicroProject.\n",
    "\n",
    "Use panda's `read_csv` function to read the dataset you found and create a DataFrame called `df` and drop all rows containing a NaN value:\n",
    "\n",
    "*Note: to learn more about the columns in the imported dataframe navigate the the github page and read the README.md file"
   ]
  },
  {
   "cell_type": "code",
   "execution_count": null,
   "metadata": {},
   "outputs": [],
   "source": [
    "df = ..."
   ]
  },
  {
   "cell_type": "markdown",
   "metadata": {},
   "source": [
    "Remove all rows containing `NaN` values and save this data frame as `df_clean`"
   ]
  },
  {
   "cell_type": "code",
   "execution_count": null,
   "metadata": {},
   "outputs": [],
   "source": [
    "df_clean = ..."
   ]
  },
  {
   "cell_type": "markdown",
   "metadata": {},
   "source": [
    "### 🔬 Checkpoint Tests 🔬"
   ]
  },
  {
   "cell_type": "code",
   "execution_count": null,
   "metadata": {},
   "outputs": [],
   "source": [
    "## == CHECKPOINT TESTS ==\n",
    "# - This read-only cell contains a \"checkpoint\" for this section of the MicroProejct and verifies you are on the right track.\n",
    "# - If this cell results in a celebration message, you PASSED all test cases!\n",
    "# - If this cell results in any errors, check you previous cells, make changes, and RE-RUN your code and then this cell.\n",
    "\n",
    "tada = \"\\N{PARTY POPPER}\"\n",
    "\n",
    "assert(\"df\" in vars())\n",
    "assert(\"df_clean\" in vars())\n",
    "assert(df_clean.isna().sum().sum() == 0)\n",
    "assert(\"home_team\" in df)\n",
    "assert(\"Score\" not in df)\n",
    "print(f\"{tada} All Tests Passed! {tada}\") "
   ]
  },
  {
   "cell_type": "markdown",
   "metadata": {},
   "source": [
    "<hr style=\"color: #DD3403;\">"
   ]
  },
  {
   "cell_type": "markdown",
   "metadata": {},
   "source": [
    "## Part 1: EDA\n",
    "\n",
    "The DataFrame currently has data about every match played, but it's often useful to view aggregated information about each country.\n",
    "\n",
    "Create a summary of in a new DataFrame, `df_home_goals`, that has the total goals **that each nation has sorted** at home in descending order.  That is, each `home_team` needs to have a total of the `home_goals` across all games they have played."
   ]
  },
  {
   "cell_type": "code",
   "execution_count": null,
   "metadata": {},
   "outputs": [],
   "source": [
    "df_home_goals = ..."
   ]
  },
  {
   "cell_type": "markdown",
   "metadata": {},
   "source": [
    "### Away Team and Away Goals\n",
    "\n",
    "How about for away_goals? Call this DataFrame `df_away_goals`:"
   ]
  },
  {
   "cell_type": "code",
   "execution_count": null,
   "metadata": {},
   "outputs": [],
   "source": [
    "df_away_goals = ..."
   ]
  },
  {
   "cell_type": "markdown",
   "metadata": {},
   "source": [
    "### 🔬 Checkpoint Tests 🔬"
   ]
  },
  {
   "cell_type": "code",
   "execution_count": null,
   "metadata": {},
   "outputs": [],
   "source": [
    "## == CHECKPOINT TESTS ==\n",
    "# - This read-only cell contains a \"checkpoint\" for this section of the MicroProejct and verifies you are on the right track.\n",
    "# - If this cell results in a celebration message, you PASSED all test cases!\n",
    "# - If this cell results in any errors, check you previous cells, make changes, and RE-RUN your code and then this cell.\n",
    "tada = \"\\N{PARTY POPPER}\"\n",
    "\n",
    "assert(\"df_home_goals\" in vars())\n",
    "assert(\"df_away_goals\" in vars())\n",
    "\n",
    "assert(df_home_goals.iloc[20][\"home_score\"] < df_home_goals.iloc[0][\"home_score\"])\n",
    "assert(df_home_goals.iloc[56][\"home_score\"] < df_home_goals.iloc[0][\"home_score\"])\n",
    "assert(df_home_goals.iloc[56][\"home_score\"] < df_home_goals.iloc[20][\"home_score\"])\n",
    "\n",
    "assert(df_away_goals.iloc[20][\"away_score\"] < df_away_goals.iloc[0][\"away_score\"])\n",
    "assert(df_away_goals.iloc[56][\"away_score\"] < df_away_goals.iloc[0][\"away_score\"])\n",
    "assert(df_away_goals.iloc[56][\"away_score\"] < df_away_goals.iloc[20][\"away_score\"])\n",
    "\n",
    "\n",
    "print(f\"{tada} All Tests Passed! {tada}\") "
   ]
  },
  {
   "cell_type": "markdown",
   "metadata": {},
   "source": [
    "<hr style=\"color: #DD3403;\">"
   ]
  },
  {
   "cell_type": "markdown",
   "metadata": {},
   "source": [
    "## Part 2: World Cup\n",
    "\n",
    "In the DataSet, the `tournament` column provides the tournament where the game was played.\n",
    "\n",
    "World Cup games are the only international matches played on Nov. 30, 2022 (`2022-11-30`).  Find the `tournament` string used for games during the World Cup by looking at games with the `date` during the world cup."
   ]
  },
  {
   "cell_type": "code",
   "execution_count": null,
   "metadata": {},
   "outputs": [],
   "source": [
    "..."
   ]
  },
  {
   "cell_type": "markdown",
   "metadata": {},
   "source": [
    "Knowing how the World Cup games are labeled, create a new DataFrame `df_worldcup` that contains all World Cup games played in the dataset:"
   ]
  },
  {
   "cell_type": "code",
   "execution_count": null,
   "metadata": {},
   "outputs": [],
   "source": [
    "df_worldcup = ...\n",
    "df_worldcup"
   ]
  },
  {
   "cell_type": "markdown",
   "metadata": {},
   "source": [
    "### 🔬 Checkpoint Tests 🔬"
   ]
  },
  {
   "cell_type": "code",
   "execution_count": null,
   "metadata": {},
   "outputs": [],
   "source": [
    "## == CHECKPOINT TESTS ==\n",
    "# - This read-only cell contains a \"checkpoint\" for this section of the MicroProejct and verifies you are on the right track.\n",
    "# - If this cell results in a celebration message, you PASSED all test cases!\n",
    "# - If this cell results in any errors, check you previous cells, make changes, and RE-RUN your code and then this cell.\n",
    "tada = \"\\N{PARTY POPPER}\"\n",
    "\n",
    "assert(\"df_worldcup\" in vars())\n",
    "\n",
    "assert(len(df_worldcup) > 900)\n",
    "assert(len(df_worldcup[\"tournament\"].unique()) == 1)\n",
    "assert(\"World Cup\" in df_worldcup[\"tournament\"].unique()[0])\n",
    "\n",
    "print(f\"{tada} All Tests Passed! {tada}\") "
   ]
  },
  {
   "cell_type": "markdown",
   "metadata": {},
   "source": [
    "## Total Points Scored at The World Cup\n",
    "\n",
    "Calculate the number of goals scored in all World Cup matches and store that value in `total_WC_goals`:"
   ]
  },
  {
   "cell_type": "code",
   "execution_count": null,
   "metadata": {},
   "outputs": [],
   "source": [
    "total_WC_goals = ...\n",
    "total_WC_goals"
   ]
  },
  {
   "cell_type": "markdown",
   "metadata": {},
   "source": [
    "### 🔬 Checkpoint Tests 🔬"
   ]
  },
  {
   "cell_type": "code",
   "execution_count": null,
   "metadata": {},
   "outputs": [],
   "source": [
    "## == CHECKPOINT TESTS ==\n",
    "# - This read-only cell contains a \"checkpoint\" for this section of the MicroProejct and verifies you are on the right track.\n",
    "# - If this cell results in a celebration message, you PASSED all test cases!\n",
    "# - If this cell results in any errors, check you previous cells, make changes, and RE-RUN your code and then this cell.\n",
    "tada = \"\\N{PARTY POPPER}\"\n",
    "\n",
    "assert(df_clean[df_clean[\"tournament\"] == \"FIFA World Cup\"].sum()[3] + df_clean[df_clean[\"tournament\"] == \"FIFA World Cup\"].sum()[4] == total_WC_goals)\n",
    "\n",
    "print(f\"{tada} All Tests Passed! {tada}\") "
   ]
  },
  {
   "cell_type": "markdown",
   "metadata": {},
   "source": [
    "<hr style=\"color: #DD3403;\">"
   ]
  },
  {
   "cell_type": "markdown",
   "metadata": {},
   "source": [
    "## Part 3: United States Win Percentage\n",
    "\n",
    "Our dataset contains a home_team and away team column along with a home_score and away_score. Using these columns find the number of wins, losses, and ties the United States has."
   ]
  },
  {
   "cell_type": "markdown",
   "metadata": {},
   "source": [
    "Use df_clean to get the number of wins the United States has and save it in a variable named `US_Wins`"
   ]
  },
  {
   "cell_type": "code",
   "execution_count": null,
   "metadata": {},
   "outputs": [],
   "source": [
    "US_Wins = ..."
   ]
  },
  {
   "cell_type": "markdown",
   "metadata": {},
   "source": [
    "Use df_clean to get the number of losses the United States has and save it in a variable named `US_Loss`"
   ]
  },
  {
   "cell_type": "code",
   "execution_count": null,
   "metadata": {},
   "outputs": [],
   "source": [
    "US_Loss = ..."
   ]
  },
  {
   "cell_type": "markdown",
   "metadata": {},
   "source": [
    "Use df_clean to get the number of draws(ties) the United States has and save it in a variable named `US_Draw`"
   ]
  },
  {
   "cell_type": "code",
   "execution_count": null,
   "metadata": {},
   "outputs": [],
   "source": [
    "US_Draw = ..."
   ]
  },
  {
   "cell_type": "markdown",
   "metadata": {},
   "source": [
    "### Calculate the Win Percentage of the United States\n",
    "\n",
    "Now, calculate the \"Win Percentage\" of the United States.  In football(soccer), \"Win Percentage\" considers a win to be a win and a draw to be **half** of a win.\n",
    "\n",
    "Save this result as `US_WinPercent`"
   ]
  },
  {
   "cell_type": "code",
   "execution_count": null,
   "metadata": {},
   "outputs": [],
   "source": [
    "US_WinPercent = ..."
   ]
  },
  {
   "cell_type": "markdown",
   "metadata": {},
   "source": [
    "### 🔬 Checkpoint Tests 🔬"
   ]
  },
  {
   "cell_type": "code",
   "execution_count": null,
   "metadata": {},
   "outputs": [],
   "source": [
    "## == CHECKPOINT TESTS ==\n",
    "# - This read-only cell contains a \"checkpoint\" for this section of the MicroProejct and verifies you are on the right track.\n",
    "# - If this cell results in a celebration message, you PASSED all test cases!\n",
    "# - If this cell results in any errors, check you previous cells, make changes, and RE-RUN your code and then this cell.\n",
    "\n",
    "tada = \"\\N{PARTY POPPER}\"\n",
    "\n",
    "assert(\"US_Wins\" in vars())\n",
    "assert(\"US_Loss\" in vars())\n",
    "assert(\"US_Draw\" in vars())\n",
    "assert(\"US_WinPercent\" in vars())\n",
    "\n",
    "\n",
    "assert(len(df_clean[((df_clean.iloc[:, 1] == df_clean.iloc[41, 1])&(df_clean.iloc[:,3] > df_clean.iloc[:,4])) | (df_clean.iloc[:, 2] == df_clean.iloc[41, 1])&(df_clean.iloc[:,3] < df_clean.iloc[:,4])])\n",
    " == US_Wins)\n",
    "assert(len(df_clean[((df_clean.iloc[:, 1] == df_clean.iloc[41, 1])&(df_clean.iloc[:,3] < df_clean.iloc[:,4])) | (df_clean.iloc[:, 2] == df_clean.iloc[41, 1])&(df_clean.iloc[:,3] > df_clean.iloc[:,4])])\n",
    " == US_Loss)\n",
    "assert(len(df_clean[((df_clean.iloc[:, 1] == df_clean.iloc[41, 1])&(df_clean.iloc[:,3] == df_clean.iloc[:,4])) | (df_clean.iloc[:, 2] == df_clean.iloc[41, 1])&(df_clean.iloc[:,3] == df_clean.iloc[:,4])])\n",
    " == US_Draw)\n",
    "\n",
    "assert((US_Wins + .5*US_Draw) / (US_Draw+US_Loss+US_Wins) == US_WinPercent) \n",
    "print(f\"{tada} All Tests Passed! {tada}\") "
   ]
  },
  {
   "cell_type": "markdown",
   "metadata": {},
   "source": [
    "<hr style=\"color: #DD3403;\">"
   ]
  },
  {
   "cell_type": "markdown",
   "metadata": {},
   "source": [
    "## Part 4: United States vs Netherlands\n",
    "\n",
    "On Saturday, December 3rd the United States will play (or has already played) Netherlands in the Round of 16 of the 2022 World Cup.  Explore this dataset by looking at the games played between the two countries!\n",
    "\n",
    "Using the data in `df_clean`, find ALL games were US has played Netherlands and save it as `df_US_Netherlands`.\n",
    "- Note: You need to consider both when the Netherlands played the US at home **AND** when the US played Netherlands at home."
   ]
  },
  {
   "cell_type": "code",
   "execution_count": null,
   "metadata": {},
   "outputs": [],
   "source": [
    "df_US_Netherlands = ..."
   ]
  },
  {
   "cell_type": "code",
   "execution_count": null,
   "metadata": {},
   "outputs": [],
   "source": [
    "## == CHECKPOINT TESTS ==\n",
    "# - This read-only cell contains a \"checkpoint\" for this section of the MicroProejct and verifies you are on the right track.\n",
    "# - If this cell results in a celebration message, you PASSED all test cases!\n",
    "# - If this cell results in any errors, check you previous cells, make changes, and RE-RUN your code and then this cell.\n",
    "\n",
    "tada = \"\\N{PARTY POPPER}\"\n",
    "\n",
    "assert(\"df_US_Netherlands\" in vars())\n",
    "\n",
    "assert(len(df_US_Netherlands) >= 5)\n",
    "assert(len(df_US_Netherlands[\"home_team\"].unique() == 2))\n",
    "assert(len(df_US_Netherlands[\"away_team\"].unique() == 2))\n",
    "\n",
    "assert(\"United States\" in df_US_Netherlands[\"home_team\"].unique())\n",
    "assert(\"United States\" in df_US_Netherlands[\"away_team\"].unique())\n",
    "\n",
    "assert(\"Netherlands\" in df_US_Netherlands[\"home_team\"].unique())\n",
    "assert(\"Netherlands\" in df_US_Netherlands[\"away_team\"].unique())\n",
    "\n",
    "assert(len(df_US_Netherlands[df_US_Netherlands[\"date\"].apply(lambda x: \"2015-06-05\" in x)]) == 1)\n",
    "assert(len(df_US_Netherlands[df_US_Netherlands[\"date\"].apply(lambda x: \"2004-02-18\" in x)]) == 1)\n",
    "\n",
    "print(f\"{tada} All Tests Passed! {tada}\") "
   ]
  },
  {
   "cell_type": "markdown",
   "metadata": {},
   "source": [
    "<hr style=\"color: #DD3403;\">"
   ]
  },
  {
   "cell_type": "markdown",
   "metadata": {},
   "source": [
    "## Submission\n",
    "\n",
    "You're almost done!  All you need to do is to commit your lab to GitHub and run the GitHub Actions Grader:\n",
    "\n",
    "1.  ⚠️ **Make certain to save your work.** ⚠️ To do this, go to **File => Save All**\n",
    "\n",
    "2.  After you have saved, exit this notebook and follow the instructions to commit and grade this MicroProject!"
   ]
  }
 ],
 "metadata": {
  "kernelspec": {
   "display_name": "Python 3.10.5 64-bit",
   "language": "python",
   "name": "python3"
  },
  "language_info": {
   "codemirror_mode": {
    "name": "ipython",
    "version": 3
   },
   "file_extension": ".py",
   "mimetype": "text/x-python",
   "name": "python",
   "nbconvert_exporter": "python",
   "pygments_lexer": "ipython3",
   "version": "3.10.5"
  },
  "orig_nbformat": 4,
  "vscode": {
   "interpreter": {
    "hash": "369f2c481f4da34e4445cda3fffd2e751bd1c4d706f27375911949ba6bb62e1c"
   }
  }
 },
 "nbformat": 4,
 "nbformat_minor": 2
}
