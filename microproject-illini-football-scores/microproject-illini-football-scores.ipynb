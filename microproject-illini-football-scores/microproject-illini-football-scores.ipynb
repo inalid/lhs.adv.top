{
 "cells": [
  {
   "attachments": {},
   "cell_type": "markdown",
   "metadata": {},
   "source": [
    "<h1 style=\"text-align: center\">\n",
    "<div style=\"color: #DD3403; font-size: 60%\">Data Science DISCOVERY MicroProject</div>\n",
    "<span style=\"\">MicroProject: Illini Football</span>\n",
    "<div style=\"font-size: 60%;\"><a href=\"https://discovery.cs.illinois.edu/microproject/illini-football-scores/\">https://discovery.cs.illinois.edu/microproject/illini-football-scores/</a></div>\n",
    "</h1>\n",
    "\n",
    "<hr style=\"color: #DD3403;\">"
   ]
  },
  {
   "attachments": {},
   "cell_type": "markdown",
   "metadata": {},
   "source": [
    "## Dataset: \"illini-football\"\n",
    "\n",
    "The [University of Illinois' Fighting Illini Historical Football Scores Dataset](https://github.com/wadefagen/datasets/tree/master/illini-football) is a dataset maintained as part of [@wadefagen](https://github.com/wadefagen)'s datasets GitHub repository.  This dataset contains a \"collection of final scores of every known Fighting Illini football game since 1892, with data on location, homecoming, and national bowl games.\"\n",
    "\n",
    "The URL for the CSV dataset is:\n",
    "```\n",
    "https://raw.githubusercontent.com/wadefagen/datasets/master/illini-football/illini-football-scores.csv\n",
    "```\n",
    "\n",
    "Load the dataset into a DataFrame called `df`:"
   ]
  },
  {
   "cell_type": "code",
   "execution_count": 2,
   "metadata": {},
   "outputs": [
    {
     "data": {
      "text/html": [
       "<div>\n",
       "<style scoped>\n",
       "    .dataframe tbody tr th:only-of-type {\n",
       "        vertical-align: middle;\n",
       "    }\n",
       "\n",
       "    .dataframe tbody tr th {\n",
       "        vertical-align: top;\n",
       "    }\n",
       "\n",
       "    .dataframe thead th {\n",
       "        text-align: right;\n",
       "    }\n",
       "</style>\n",
       "<table border=\"1\" class=\"dataframe\">\n",
       "  <thead>\n",
       "    <tr style=\"text-align: right;\">\n",
       "      <th></th>\n",
       "      <th>Season</th>\n",
       "      <th>Date</th>\n",
       "      <th>Location</th>\n",
       "      <th>Opponent</th>\n",
       "      <th>OpponentRank</th>\n",
       "      <th>Result</th>\n",
       "      <th>IlliniScore</th>\n",
       "      <th>OpponentScore</th>\n",
       "      <th>Note</th>\n",
       "    </tr>\n",
       "  </thead>\n",
       "  <tbody>\n",
       "    <tr>\n",
       "      <th>0</th>\n",
       "      <td>2022</td>\n",
       "      <td>8/27/2022</td>\n",
       "      <td>vs.</td>\n",
       "      <td>Wyoming</td>\n",
       "      <td>NaN</td>\n",
       "      <td>W</td>\n",
       "      <td>30.0</td>\n",
       "      <td>6.0</td>\n",
       "      <td>NaN</td>\n",
       "    </tr>\n",
       "    <tr>\n",
       "      <th>1</th>\n",
       "      <td>2022</td>\n",
       "      <td>9/2/2022</td>\n",
       "      <td>@</td>\n",
       "      <td>Indiana</td>\n",
       "      <td>NaN</td>\n",
       "      <td>L</td>\n",
       "      <td>20.0</td>\n",
       "      <td>23.0</td>\n",
       "      <td>NaN</td>\n",
       "    </tr>\n",
       "    <tr>\n",
       "      <th>2</th>\n",
       "      <td>2022</td>\n",
       "      <td>9/10/2022</td>\n",
       "      <td>vs.</td>\n",
       "      <td>Virginia</td>\n",
       "      <td>NaN</td>\n",
       "      <td>W</td>\n",
       "      <td>24.0</td>\n",
       "      <td>3.0</td>\n",
       "      <td>NaN</td>\n",
       "    </tr>\n",
       "    <tr>\n",
       "      <th>3</th>\n",
       "      <td>2022</td>\n",
       "      <td>9/22/2022</td>\n",
       "      <td>vs.</td>\n",
       "      <td>Chattanooga</td>\n",
       "      <td>10.0</td>\n",
       "      <td>W</td>\n",
       "      <td>31.0</td>\n",
       "      <td>0.0</td>\n",
       "      <td>NaN</td>\n",
       "    </tr>\n",
       "    <tr>\n",
       "      <th>4</th>\n",
       "      <td>2022</td>\n",
       "      <td>10/1/2022</td>\n",
       "      <td>@</td>\n",
       "      <td>Wisconsin</td>\n",
       "      <td>NaN</td>\n",
       "      <td>W</td>\n",
       "      <td>34.0</td>\n",
       "      <td>10.0</td>\n",
       "      <td>NaN</td>\n",
       "    </tr>\n",
       "    <tr>\n",
       "      <th>...</th>\n",
       "      <td>...</td>\n",
       "      <td>...</td>\n",
       "      <td>...</td>\n",
       "      <td>...</td>\n",
       "      <td>...</td>\n",
       "      <td>...</td>\n",
       "      <td>...</td>\n",
       "      <td>...</td>\n",
       "      <td>...</td>\n",
       "    </tr>\n",
       "    <tr>\n",
       "      <th>1279</th>\n",
       "      <td>1892</td>\n",
       "      <td>1892-10-29</td>\n",
       "      <td>@</td>\n",
       "      <td>Kansas City A.C.</td>\n",
       "      <td>NaN</td>\n",
       "      <td>W</td>\n",
       "      <td>42.0</td>\n",
       "      <td>0.0</td>\n",
       "      <td>NaN</td>\n",
       "    </tr>\n",
       "    <tr>\n",
       "      <th>1280</th>\n",
       "      <td>1892</td>\n",
       "      <td>1892-11-05</td>\n",
       "      <td>vs.</td>\n",
       "      <td>Englewood High</td>\n",
       "      <td>NaN</td>\n",
       "      <td>W</td>\n",
       "      <td>38.0</td>\n",
       "      <td>0.0</td>\n",
       "      <td>NaN</td>\n",
       "    </tr>\n",
       "    <tr>\n",
       "      <th>1281</th>\n",
       "      <td>1892</td>\n",
       "      <td>1892-11-16</td>\n",
       "      <td>@</td>\n",
       "      <td>Chicago</td>\n",
       "      <td>NaN</td>\n",
       "      <td>L</td>\n",
       "      <td>4.0</td>\n",
       "      <td>10.0</td>\n",
       "      <td>NaN</td>\n",
       "    </tr>\n",
       "    <tr>\n",
       "      <th>1282</th>\n",
       "      <td>1892</td>\n",
       "      <td>1892-11-18</td>\n",
       "      <td>vs.</td>\n",
       "      <td>DePauw</td>\n",
       "      <td>NaN</td>\n",
       "      <td>W</td>\n",
       "      <td>34.0</td>\n",
       "      <td>0.0</td>\n",
       "      <td>NaN</td>\n",
       "    </tr>\n",
       "    <tr>\n",
       "      <th>1283</th>\n",
       "      <td>1892</td>\n",
       "      <td>1892-11-24</td>\n",
       "      <td>vs.</td>\n",
       "      <td>Chicago</td>\n",
       "      <td>NaN</td>\n",
       "      <td>W</td>\n",
       "      <td>28.0</td>\n",
       "      <td>12.0</td>\n",
       "      <td>NaN</td>\n",
       "    </tr>\n",
       "  </tbody>\n",
       "</table>\n",
       "<p>1284 rows × 9 columns</p>\n",
       "</div>"
      ],
      "text/plain": [
       "      Season        Date Location          Opponent  OpponentRank Result  \\\n",
       "0       2022   8/27/2022      vs.           Wyoming           NaN      W   \n",
       "1       2022    9/2/2022        @           Indiana           NaN      L   \n",
       "2       2022   9/10/2022      vs.          Virginia           NaN      W   \n",
       "3       2022   9/22/2022      vs.       Chattanooga          10.0      W   \n",
       "4       2022   10/1/2022        @         Wisconsin           NaN      W   \n",
       "...      ...         ...      ...               ...           ...    ...   \n",
       "1279    1892  1892-10-29        @  Kansas City A.C.           NaN      W   \n",
       "1280    1892  1892-11-05      vs.    Englewood High           NaN      W   \n",
       "1281    1892  1892-11-16        @           Chicago           NaN      L   \n",
       "1282    1892  1892-11-18      vs.            DePauw           NaN      W   \n",
       "1283    1892  1892-11-24      vs.           Chicago           NaN      W   \n",
       "\n",
       "      IlliniScore  OpponentScore Note  \n",
       "0            30.0            6.0  NaN  \n",
       "1            20.0           23.0  NaN  \n",
       "2            24.0            3.0  NaN  \n",
       "3            31.0            0.0  NaN  \n",
       "4            34.0           10.0  NaN  \n",
       "...           ...            ...  ...  \n",
       "1279         42.0            0.0  NaN  \n",
       "1280         38.0            0.0  NaN  \n",
       "1281          4.0           10.0  NaN  \n",
       "1282         34.0            0.0  NaN  \n",
       "1283         28.0           12.0  NaN  \n",
       "\n",
       "[1284 rows x 9 columns]"
      ]
     },
     "execution_count": 2,
     "metadata": {},
     "output_type": "execute_result"
    }
   ],
   "source": [
    "import pandas as pd\n",
    "df = pd.read_csv(\"https://raw.githubusercontent.com/wadefagen/datasets/master/illini-football/illini-football-scores.csv\")\n",
    "df"
   ]
  },
  {
   "attachments": {},
   "cell_type": "markdown",
   "metadata": {},
   "source": [
    "<hr style=\"color: #DD3403;\">"
   ]
  },
  {
   "attachments": {},
   "cell_type": "markdown",
   "metadata": {},
   "source": [
    "## Puzzle 1: The Best and Worst Games in History\n",
    "\n",
    "Since 1892, The University of Illinois has played over 1,200 games of football against 130 different schools!  This dataset reports the final score of the same, with a column for the score of the Illini and a column for score of the Opponent.\n",
    "\n",
    "In the first puzzle, let's find a few interesting games!\n",
    "\n",
    "\n",
    "### The Worst Game of Illini Football\n",
    "\n",
    "Let's consider the \"worst\" game to be the game where the Illini lost by the lost points. *(This is not the game where the opponent scored the most points, but the game where there score had the biggest difference.)\n",
    "\n",
    "Create a DataFrame df_worst that contains the rows of the greatest score difference. There might be more than one row with the same score difference, so you should use `df.nlargest()` or `df.smallest()` to get the rows with the largest score difference. To not drop the duplicates, you can use `keep='all'` as an argument to `df.nlargest()` or `df.smallest()`\n",
    "\n"
   ]
  },
  {
   "cell_type": "code",
   "execution_count": 4,
   "metadata": {},
   "outputs": [
    {
     "ename": "TypeError",
     "evalue": "DataFrame.nlargest() missing 2 required positional arguments: 'n' and 'columns'",
     "output_type": "error",
     "traceback": [
      "\u001b[0;31m---------------------------------------------------------------------------\u001b[0m",
      "\u001b[0;31mTypeError\u001b[0m                                 Traceback (most recent call last)",
      "\u001b[1;32m/workspaces/lhs.adv.top/microproject-illini-football-scores/microproject-illini-football-scores.ipynb Cell 6\u001b[0m line \u001b[0;36m1\n\u001b[0;32m----> <a href='vscode-notebook-cell://codespaces%2Bfictional-computing-machine-56wxq4577w5cvvj7/workspaces/lhs.adv.top/microproject-illini-football-scores/microproject-illini-football-scores.ipynb#W5sdnNjb2RlLXJlbW90ZQ%3D%3D?line=0'>1</a>\u001b[0m df_worst \u001b[39m=\u001b[39m df\u001b[39m.\u001b[39;49mnlargest(keep\u001b[39m=\u001b[39;49m\u001b[39m'\u001b[39;49m\u001b[39mall\u001b[39;49m\u001b[39m'\u001b[39;49m)\n\u001b[1;32m      <a href='vscode-notebook-cell://codespaces%2Bfictional-computing-machine-56wxq4577w5cvvj7/workspaces/lhs.adv.top/microproject-illini-football-scores/microproject-illini-football-scores.ipynb#W5sdnNjb2RlLXJlbW90ZQ%3D%3D?line=1'>2</a>\u001b[0m df_worst\n",
      "\u001b[0;31mTypeError\u001b[0m: DataFrame.nlargest() missing 2 required positional arguments: 'n' and 'columns'"
     ]
    }
   ],
   "source": [
    "df_worst = df.smallest(keep='all')\n",
    "df_worst"
   ]
  },
  {
   "attachments": {},
   "cell_type": "markdown",
   "metadata": {},
   "source": [
    "### The Craziest Game of Illini Football\n",
    "\n",
    "Let's consider the \"craziest\" game of Illini Football the game where the **most total points** were scored.\n",
    "\n",
    "Create a DataFrame `df_craziest` that contains just one row of the very craziest game:"
   ]
  },
  {
   "cell_type": "code",
   "execution_count": null,
   "metadata": {},
   "outputs": [],
   "source": [
    "df_craziest = ...\n",
    "df_craziest"
   ]
  },
  {
   "attachments": {},
   "cell_type": "markdown",
   "metadata": {},
   "source": [
    "### The Best Homecoming Game\n",
    "\n",
    "In football, the \"homecoming game\" is a football games played at the team's home stadium and is often accompanied with celebrations all week (\"Homecoming Week\").  In this dataset, homecoming games are denoted by the `\"Note\"` column contains the string `\"Homecoming\"`.\n",
    "\n",
    "Find the \"best\" homecoming game, where the Illini won by the most points.  Create a DataFrame `df_homecoming_best` that contains just one row containing the best homecoming game:"
   ]
  },
  {
   "cell_type": "code",
   "execution_count": null,
   "metadata": {},
   "outputs": [],
   "source": [
    "df_homecoming_best = ...\n",
    "df_homecoming_best"
   ]
  },
  {
   "cell_type": "markdown",
   "metadata": {},
   "source": [
    "### 🔬 MicroProject Checkpoint Tests 🔬"
   ]
  },
  {
   "cell_type": "code",
   "execution_count": null,
   "metadata": {},
   "outputs": [],
   "source": [
    "### TEST CASE for Puzzle 1: The Best and Worst Games in History\n",
    "#\n",
    "# What is this cell?\n",
    "# - This cell contains test cases for the MicroProject. Even though you can modify this\n",
    "#   cell, you should treat it like it's a read-only cell since it will be replaced with\n",
    "#   a fresh version when your code is checked.\n",
    "#\n",
    "# - If this cell runs without any error in the output, you PASSED all test cases!\n",
    "#   We try and make these test cases as useful and complete as possible, but there is\n",
    "#   a chance your code may be incorrect even though you pass the test cases (these\n",
    "#   tests should be seen as a way to give you confidence that code you believe is\n",
    "#   actually correct, not as a robust check to catch all possible errors).\n",
    "#\n",
    "# - If this cell results in any errors, check you previous cells, make changes, and\n",
    "#   RE-RUN your code and then re-run this cell.  Keep repeating this until the cell\n",
    "#   passed with no errors! :)\n",
    "\n",
    "tada = \"\\N{PARTY POPPER}\"\n",
    "\n",
    "assert( 'df' in vars() ), \"You appear to not have the correct dataset loaded in `df`.\"\n",
    "assert( len(df) > 1200 ), \"You appear to not have the correct dataset loaded in `df`.\"\n",
    "assert( \"IlliniScore\" in df ), \"You appear to not have the correct dataset loaded in `df`.\"\n",
    "assert( \"OpponentScore\" in df ), \"You appear to not have the correct dataset loaded in `df`.\"\n",
    "\n",
    "assert( 'df_worst' in vars() ), \"Puzzle #1 appears incorrect.\"\n",
    "assert( len(df_worst) == 2 ), \"Puzzle #1 appears incorrect.\"\n",
    "assert( 'df_craziest' in vars() ), \"Puzzle #1 appears incorrect.\"\n",
    "assert( len(df_craziest) == 1 ), \"Puzzle #1 appears incorrect.\"\n",
    "assert( 'df_homecoming_best' in vars() ), \"Puzzle #1 appears incorrect.\"\n",
    "assert( len(df_homecoming_best) == 1 ), \"Puzzle #1 appears incorrect.\"\n",
    "\n",
    "OS = list(df.columns).index(\"OpponentScore\")\n",
    "IS = list(df.columns).index(\"IlliniScore\")\n",
    "__tdf = df.dropna(subset=[\"IlliniScore\"])\n",
    "__tdfh = __tdf[__tdf.Note == \"Homecoming\"]\n",
    "assert( df_worst.iloc[0].OpponentScore == __tdf.loc[(__tdf.iloc[:, OS] - __tdf.iloc[:, IS]).sort_values().index].iloc[-1, OS] ), \"Puzzle #1 appears incorrect.\"\n",
    "assert( df_craziest.iloc[0].OpponentScore == __tdf.loc[(__tdf.iloc[:, OS] + __tdf.iloc[:, IS]).sort_values().index].iloc[-1, OS] ), \"Puzzle #1 appears incorrect.\"\n",
    "assert( df_homecoming_best.iloc[0].IlliniScore == __tdfh.loc[(__tdfh.iloc[:, OS] - __tdfh.iloc[:, IS]).sort_values().index].iloc[0, IS] ), \"Puzzle #1 appears incorrect.\"\n",
    "assert( df_homecoming_best.iloc[0].OpponentScore == __tdfh.loc[(__tdfh.iloc[:, OS] - __tdfh.iloc[:, IS]).sort_values().index].iloc[0, OS] ), \"Puzzle #1 appears incorrect.\"\n",
    "\n",
    "print(f\"{tada} All Tests Passed! {tada}\")"
   ]
  },
  {
   "attachments": {},
   "cell_type": "markdown",
   "metadata": {},
   "source": [
    "<hr style=\"color: #DD3403;\">"
   ]
  },
  {
   "attachments": {},
   "cell_type": "markdown",
   "metadata": {},
   "source": [
    "## Puzzle 2: Are Football Scores Higher in Recent Years?\n",
    "\n",
    "In the Puzzle 1 analysis, most of games you found were recent.  One hypothesis I have is that *\"football games have a higher score recently than they did historically\"*.  Let's see if we have data to support this!\n",
    "\n",
    "Since this data goes all the way back to 1892, let's consider:\n",
    "- \"Recent Games\" to be all games played in the 2000 season to today,\n",
    "- \"Historic Games\" to be all other games (1999 and earlier)\n",
    "\n",
    "Create two DataFrames, `df_recent` and `df_historic`, to store the recent and historic games:"
   ]
  },
  {
   "cell_type": "code",
   "execution_count": null,
   "metadata": {},
   "outputs": [],
   "source": [
    "df_recent = ...\n",
    "df_recent"
   ]
  },
  {
   "cell_type": "code",
   "execution_count": null,
   "metadata": {},
   "outputs": [],
   "source": [
    "df_historic = ...\n",
    "df_historic"
   ]
  },
  {
   "attachments": {},
   "cell_type": "markdown",
   "metadata": {},
   "source": [
    "### Average Points Scored\n",
    "\n",
    "Using your two datasets, find the **total** points scored in recent games and historic games."
   ]
  },
  {
   "cell_type": "code",
   "execution_count": null,
   "metadata": {},
   "outputs": [],
   "source": [
    "recent_avg_score = 0\n",
    "recent_avg_score"
   ]
  },
  {
   "cell_type": "code",
   "execution_count": null,
   "metadata": {},
   "outputs": [],
   "source": [
    "historic_avg_score = 0\n",
    "historic_avg_score"
   ]
  },
  {
   "cell_type": "markdown",
   "metadata": {},
   "source": [
    "### 🔬 MicroProject Checkpoint Tests 🔬"
   ]
  },
  {
   "cell_type": "code",
   "execution_count": null,
   "metadata": {},
   "outputs": [],
   "source": [
    "### TEST CASE for Puzzle 2: Are Football Scores Higher in Recent Years?\n",
    "#\n",
    "# What is this cell?\n",
    "# - This cell contains test cases for the MicroProject. Even though you can modify this\n",
    "#   cell, you should treat it like it's a read-only cell since it will be replaced with\n",
    "#   a fresh version when your code is checked.\n",
    "#\n",
    "# - If this cell runs without any error in the output, you PASSED all test cases!\n",
    "#   We try and make these test cases as useful and complete as possible, but there is\n",
    "#   a chance your code may be incorrect even though you pass the test cases (these\n",
    "#   tests should be seen as a way to give you confidence that code you believe is\n",
    "#   actually correct, not as a robust check to catch all possible errors).\n",
    "#\n",
    "# - If this cell results in any errors, check you previous cells, make changes, and\n",
    "#   RE-RUN your code and then re-run this cell.  Keep repeating this until the cell\n",
    "#   passed with no errors! :)\n",
    "\n",
    "import math\n",
    "tada = \"\\N{PARTY POPPER}\"\n",
    "\n",
    "assert( 'df_recent' in vars() ), \"Puzzle #2 appears incorrect.\"\n",
    "assert( len(df_recent) > 260 ), \"Puzzle #2 appears incorrect.\"\n",
    "assert( 'df_historic' in vars() ), \"Puzzle #2 appears incorrect.\"\n",
    "assert( len(df_historic) == 1008 ), \"Puzzle #2 appears incorrect.\"\n",
    "assert( len(df_historic) + len(df_recent) == len(df) ), \"Puzzle #2 appears incorrect.\"\n",
    "__tdfg = __tdf.assign( C = __tdf.apply(lambda row: row[\"Season\"] < 2000, axis=1) ).groupby(\"C\").describe()\n",
    "assert( math.isclose(recent_avg_score, sum(__tdfg.loc[False].iloc[[17, 25]])) ), \"Puzzle #2 appears incorrect.\"\n",
    "assert( math.isclose(historic_avg_score, sum(__tdfg.loc[True].iloc[[17, 25]])) ), \"Puzzle #2 appears incorrect.\"\n",
    "\n",
    "print(f\"{tada} Puzzle 2: All Tests Passed! {tada}\")"
   ]
  },
  {
   "attachments": {},
   "cell_type": "markdown",
   "metadata": {},
   "source": [
    "<hr style=\"color: #DD3403;\">"
   ]
  },
  {
   "attachments": {},
   "cell_type": "markdown",
   "metadata": {},
   "source": [
    "## Puzzle 3: Create a Bar Chart\n",
    "\n",
    "Finally, let's create a bar chart of the total number of points per year!\n",
    "\n",
    "To do this, set up a DataFrame in the following way:\n",
    "- In your DataFrame `df`, create a column called `TotalScore` for every game.\n",
    "- Each row must be a **season** of football -- not just a single game.\n",
    "- Store the DataFrame, that is ready to be graphed, as `df_points_per_season`."
   ]
  },
  {
   "cell_type": "code",
   "execution_count": null,
   "metadata": {},
   "outputs": [],
   "source": [
    "..."
   ]
  },
  {
   "attachments": {},
   "cell_type": "markdown",
   "metadata": {},
   "source": [
    "### Create the Graph\n",
    "\n",
    "Once you have a DataFrame all set up, the plot is the easy part!"
   ]
  },
  {
   "cell_type": "code",
   "execution_count": null,
   "metadata": {},
   "outputs": [],
   "source": [
    "df_points_per_season.reset_index().plot.bar(x=\"Season\", y=\"TotalScore\", figsize=(30, 15))"
   ]
  },
  {
   "attachments": {},
   "cell_type": "markdown",
   "metadata": {},
   "source": [
    "### 🔬 Microproject Checkpoint Tests 🔬"
   ]
  },
  {
   "cell_type": "code",
   "execution_count": null,
   "metadata": {},
   "outputs": [],
   "source": [
    "### TEST CASE for Puzzle 3: Create a Bar Chart\n",
    "# - This read-only cell contains test cases for the microproject.\n",
    "# - If this cell runs without any error in the output, you PASSED all test cases!\n",
    "# - If this cell results in any errors, check you previous cells, make changes, and RE-RUN your code and then this cell.\n",
    "\n",
    "import math\n",
    "tada = \"\\N{PARTY POPPER}\"\n",
    "\n",
    "assert( 'df_points_per_season' in vars() ), \"Puzzle #3 appears incorrect.\"\n",
    "assert( math.isclose(df_points_per_season[ df_points_per_season.Season == 2018 ][\"TotalScore\"].iloc[0], 785) ), \"Puzzle #3 appears incorrect.\"\n",
    "assert( math.isclose(df_points_per_season[ df_points_per_season.Season == 2014 ][\"TotalScore\"].iloc[0], 779) ), \"Puzzle #3 appears incorrect.\"\n",
    "\n",
    "print(f\"{tada} Puzzle 3: All Tests Passed! {tada}\")"
   ]
  },
  {
   "attachments": {},
   "cell_type": "markdown",
   "metadata": {},
   "source": [
    "<hr style=\"color: #DD3403;\">"
   ]
  },
  {
   "attachments": {},
   "cell_type": "markdown",
   "metadata": {},
   "source": [
    "## Submission\n",
    "\n",
    "You're almost done!  All you need to do is to commit your lab to GitHub and run the GitHub Actions Grader:\n",
    "\n",
    "1.  ⚠️ **Make certain to save your work.** ⚠️ To do this, go to **File => Save All**\n",
    "\n",
    "2.  After you have saved, exit this notebook and return to https://discovery.cs.illinois.edu/microproject/illini-football-scores/ and complete the section **\"Commit and Grade Your Notebook\"**.\n",
    "\n",
    "3. If you see a 100% grade result on your GitHub Action, you've completed this MicroProject! 🎉"
   ]
  }
 ],
 "metadata": {
  "kernelspec": {
   "display_name": "Python 3",
   "language": "python",
   "name": "python3"
  },
  "language_info": {
   "codemirror_mode": {
    "name": "ipython",
    "version": 3
   },
   "file_extension": ".py",
   "mimetype": "text/x-python",
   "name": "python",
   "nbconvert_exporter": "python",
   "pygments_lexer": "ipython3",
   "version": "3.10.8"
  },
  "vscode": {
   "interpreter": {
    "hash": "369f2c481f4da34e4445cda3fffd2e751bd1c4d706f27375911949ba6bb62e1c"
   }
  }
 },
 "nbformat": 4,
 "nbformat_minor": 2
}
